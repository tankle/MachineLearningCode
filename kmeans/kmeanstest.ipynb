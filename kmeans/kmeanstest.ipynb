{
 "cells": [
  {
   "cell_type": "code",
   "execution_count": 2,
   "metadata": {
    "collapsed": false
   },
   "outputs": [
    {
     "name": "stdout",
     "output_type": "stream",
     "text": [
      "Populating the interactive namespace from numpy and matplotlib\n"
     ]
    }
   ],
   "source": [
    "%pylab inline"
   ]
  },
  {
   "cell_type": "code",
   "execution_count": 6,
   "metadata": {
    "collapsed": false
   },
   "outputs": [],
   "source": [
    "import kmeans\n"
   ]
  },
  {
   "cell_type": "code",
   "execution_count": 12,
   "metadata": {
    "collapsed": false
   },
   "outputs": [
    {
     "data": {
      "text/plain": [
       "<module 'kmeans' from 'kmeans.py'>"
      ]
     },
     "execution_count": 12,
     "metadata": {},
     "output_type": "execute_result"
    }
   ],
   "source": [
    "reload(kmeans)"
   ]
  },
  {
   "cell_type": "code",
   "execution_count": 10,
   "metadata": {
    "collapsed": true
   },
   "outputs": [],
   "source": [
    "datamat = mat(kmeans.loadDataSet('testSet2.txt'))\n"
   ]
  },
  {
   "cell_type": "code",
   "execution_count": 13,
   "metadata": {
    "collapsed": false
   },
   "outputs": [
    {
     "name": "stdout",
     "output_type": "stream",
     "text": [
      "('the centroids is ', matrix([[-4.00437331, -0.91990185],\n",
      "        [-2.84250312, -0.77198569]]))\n",
      "('the centroids is ', matrix([[-4.36694533,  3.318491  ],\n",
      "        [ 0.06381528,  1.11516375]]))\n",
      "('the centroids is ', matrix([[-3.14707283,  3.35698672],\n",
      "        [ 1.12342729,  0.311763  ]]))\n",
      "('the centroids is ', matrix([[-2.94737575,  3.3263781 ],\n",
      "        [ 1.23710375,  0.17480612]]))\n",
      "sseSplit, and sseNotSplit : 570.722757 \t 0.000000 \n",
      "('The bestCentToSplit is: ', 0)\n",
      "('The len of bestClustAss is: ', 60)\n",
      "('the centroids is ', matrix([[-4.07332753,  2.49490237],\n",
      "        [-1.95928599,  1.88594347]]))\n",
      "('the centroids is ', matrix([[-3.58362738,  3.28784469],\n",
      "        [-1.76576557,  3.39794014]]))\n",
      "sseSplit, and sseNotSplit : 22.971772 \t 532.659807 \n",
      "('the centroids is ', matrix([[ 1.28040501, -1.69425394],\n",
      "        [ 4.43948858, -0.3044401 ]]))\n",
      "('the centroids is ', matrix([[-0.45965615, -2.7782156 ],\n",
      "        [ 2.93386365,  3.12782785]]))\n",
      "sseSplit, and sseNotSplit : 68.686548 \t 38.062951 \n",
      "('The bestCentToSplit is: ', 1)\n",
      "('The len of bestClustAss is: ', 40)\n"
     ]
    }
   ],
   "source": [
    "centList , myassments = kmeans.biKmeans(datamat, 3)"
   ]
  },
  {
   "cell_type": "code",
   "execution_count": null,
   "metadata": {
    "collapsed": false
   },
   "outputs": [],
   "source": []
  },
  {
   "cell_type": "code",
   "execution_count": null,
   "metadata": {
    "collapsed": false
   },
   "outputs": [],
   "source": [
    "\n"
   ]
  },
  {
   "cell_type": "code",
   "execution_count": 16,
   "metadata": {
    "collapsed": true
   },
   "outputs": [],
   "source": [
    "from pylab import *"
   ]
  },
  {
   "cell_type": "code",
   "execution_count": 60,
   "metadata": {
    "collapsed": false
   },
   "outputs": [],
   "source": [
    "\n",
    "def plotPic(centList, assments, dataset, marks, k):\n",
    "    x = centList[:,0].A[:,0]\n",
    "    y = centList[:,1].A[:,0]\n",
    "    \n",
    "    for i in range(k):\n",
    "        xx = dataset[nonzero(assments[:,0].A == i)[0],0].A[:,0]\n",
    "        yy = dataset[nonzero(assments[:,0].A == i)[0],1].A[:,0]\n",
    "        plot(xx, yy, marks[i])\n",
    "    plot(x, y, 'D')\n",
    "\n",
    "    "
   ]
  },
  {
   "cell_type": "code",
   "execution_count": 61,
   "metadata": {
    "collapsed": false
   },
   "outputs": [
    {
     "data": {
      "image/png": "[encoded data removed]",
      "text/plain": [
       "<matplotlib.figure.Figure at 0xb1e1ac8>"
      ]
     },
     "metadata": {},
     "output_type": "display_data"
    }
   ],
   "source": [
    "marks = ['.','+','o']\n",
    "plotPic(centList, myassments, datamat, marks,3)"
   ]
  },
  {
   "cell_type": "code",
   "execution_count": 62,
   "metadata": {
    "collapsed": false
   },
   "outputs": [
    {
     "name": "stdout",
     "output_type": "stream",
     "text": [
      "('the centroids is ', matrix([[-4.90088841,  2.25605675],\n",
      "        [ 0.72739698, -1.44367057],\n",
      "        [ 3.21888041, -1.10005686],\n",
      "        [-4.02935928, -4.1621915 ]]))\n",
      "('the centroids is ', matrix([[-2.54905874,  2.81904858],\n",
      "        [ 0.7334025 , -1.60241025],\n",
      "        [ 2.98620229,  0.54660226],\n",
      "        [-3.53973889, -2.89384326]]))\n",
      "('the centroids is ', matrix([[-2.46154315,  2.78737555],\n",
      "        [ 2.19454347, -3.07604306],\n",
      "        [ 2.95373358,  2.32801413],\n",
      "        [-3.53973889, -2.89384326]]))\n",
      "('the centroids is ', matrix([[-2.46154315,  2.78737555],\n",
      "        [ 2.65077367, -2.79019029],\n",
      "        [ 2.6265299 ,  3.10868015],\n",
      "        [-3.53973889, -2.89384326]]))\n"
     ]
    },
    {
     "data": {
      "image/png": "[encoded data removed]",
      "text/plain": [
       "<matplotlib.figure.Figure at 0xa286048>"
      ]
     },
     "metadata": {},
     "output_type": "display_data"
    }
   ],
   "source": [
    "dataset2 = mat(kmeans.loadDataSet('testSet.txt'))\n",
    "centroids2, assments2 = kmeans.kMeans(dataset2, 4)\n",
    "marks.append('*')\n",
    "plotPic(centroids2, assments2, dataset2, marks, 4)"
   ]
  },
  {
   "cell_type": "code",
   "execution_count": 63,
   "metadata": {
    "collapsed": false
   },
   "outputs": [
    {
     "name": "stdout",
     "output_type": "stream",
     "text": [
      "('the centroids is ', matrix([[ 0.86680447, -3.51724258],\n",
      "        [ 0.24060539, -2.15227884],\n",
      "        [ 1.12047934,  0.3816388 ]]))\n",
      "('the centroids is ', matrix([[ 0.408857  , -3.54908071],\n",
      "        [-0.92731708, -2.36313438],\n",
      "        [-0.00675605,  3.22710297]]))\n",
      "('the centroids is ', matrix([[ 0.35496167, -3.36033556],\n",
      "        [-1.12616164, -2.30193564],\n",
      "        [-0.00675605,  3.22710297]]))\n"
     ]
    },
    {
     "data": {
      "image/png": "[encoded data removed]",
      "text/plain": [
       "<matplotlib.figure.Figure at 0xa6a1668>"
      ]
     },
     "metadata": {},
     "output_type": "display_data"
    }
   ],
   "source": [
    "# 这种情况说明普通的kmeans 是对质心的初值敏感的，会收敛于局部解\n",
    "centroids3, assments3 = kmeans.kMeans(datamat, 3)\n",
    "\n",
    "plotPic(centroids3, assments3, datamat, marks, 3)"
   ]
  },
  {
   "cell_type": "code",
   "execution_count": null,
   "metadata": {
    "collapsed": true
   },
   "outputs": [],
   "source": []
  }
 ],
 "metadata": {
  "kernelspec": {
   "display_name": "Python 2",
   "language": "python",
   "name": "python2"
  },
  "language_info": {
   "codemirror_mode": {
    "name": "ipython",
    "version": 2
   },
   "file_extension": ".py",
   "mimetype": "text/x-python",
   "name": "python",
   "nbconvert_exporter": "python",
   "pygments_lexer": "ipython2",
   "version": "2.7.6"
  }
 },
 "nbformat": 4,
 "nbformat_minor": 0
}
