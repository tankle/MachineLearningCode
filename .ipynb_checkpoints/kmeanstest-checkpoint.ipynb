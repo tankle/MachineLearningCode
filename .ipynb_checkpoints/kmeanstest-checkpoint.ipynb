{
 "cells": [
  {
   "cell_type": "code",
   "execution_count": 2,
   "metadata": {
    "collapsed": false
   },
   "outputs": [
    {
     "name": "stdout",
     "output_type": "stream",
     "text": [
      "Populating the interactive namespace from numpy and matplotlib\n"
     ]
    }
   ],
   "source": [
    "%pylab inline"
   ]
  },
  {
   "cell_type": "code",
   "execution_count": 6,
   "metadata": {
    "collapsed": false
   },
   "outputs": [],
   "source": [
    "import kmeans\n"
   ]
  },
  {
   "cell_type": "code",
   "execution_count": 12,
   "metadata": {
    "collapsed": false
   },
   "outputs": [
    {
     "data": {
      "text/plain": [
       "<module 'kmeans' from 'kmeans.py'>"
      ]
     },
     "execution_count": 12,
     "metadata": {},
     "output_type": "execute_result"
    }
   ],
   "source": [
    "reload(kmeans)"
   ]
  },
  {
   "cell_type": "code",
   "execution_count": 10,
   "metadata": {
    "collapsed": true
   },
   "outputs": [],
   "source": [
    "datamat = mat(kmeans.loadDataSet('testSet2.txt'))\n"
   ]
  },
  {
   "cell_type": "code",
   "execution_count": 13,
   "metadata": {
    "collapsed": false
   },
   "outputs": [
    {
     "name": "stdout",
     "output_type": "stream",
     "text": [
      "('the centroids is ', matrix([[-4.00437331, -0.91990185],\n",
      "        [-2.84250312, -0.77198569]]))\n",
      "('the centroids is ', matrix([[-4.36694533,  3.318491  ],\n",
      "        [ 0.06381528,  1.11516375]]))\n",
      "('the centroids is ', matrix([[-3.14707283,  3.35698672],\n",
      "        [ 1.12342729,  0.311763  ]]))\n",
      "('the centroids is ', matrix([[-2.94737575,  3.3263781 ],\n",
      "        [ 1.23710375,  0.17480612]]))\n",
      "sseSplit, and sseNotSplit : 570.722757 \t 0.000000 \n",
      "('The bestCentToSplit is: ', 0)\n",
      "('The len of bestClustAss is: ', 60)\n",
      "('the centroids is ', matrix([[-4.07332753,  2.49490237],\n",
      "        [-1.95928599,  1.88594347]]))\n",
      "('the centroids is ', matrix([[-3.58362738,  3.28784469],\n",
      "        [-1.76576557,  3.39794014]]))\n",
      "sseSplit, and sseNotSplit : 22.971772 \t 532.659807 \n",
      "('the centroids is ', matrix([[ 1.28040501, -1.69425394],\n",
      "        [ 4.43948858, -0.3044401 ]]))\n",
      "('the centroids is ', matrix([[-0.45965615, -2.7782156 ],\n",
      "        [ 2.93386365,  3.12782785]]))\n",
      "sseSplit, and sseNotSplit : 68.686548 \t 38.062951 \n",
      "('The bestCentToSplit is: ', 1)\n",
      "('The len of bestClustAss is: ', 40)\n"
     ]
    }
   ],
   "source": [
    "centList , myassments = kmeans.biKmeans(datamat, 3)"
   ]
  },
  {
   "cell_type": "code",
   "execution_count": 14,
   "metadata": {
    "collapsed": false
   },
   "outputs": [
    {
     "name": "stdout",
     "output_type": "stream",
     "text": [
      "('the centroids is ', matrix([[ 4.20889723,  1.2099846 ],\n",
      "        [ 3.66180991, -3.16030429]]))\n",
      "('the centroids is ', matrix([[-0.00675605,  3.22710297],\n",
      "        [-0.45965615, -2.7782156 ]]))\n",
      "sseSplit, and sseNotSplit : 453.033490 \t 0.000000 \n",
      "('The bestCentToSplit is: ', 0)\n",
      "('The len of bestClustAss is: ', 60)\n",
      "('the centroids is ', matrix([[-0.58238387,  2.43205889],\n",
      "        [ 1.29011097,  4.54084338]]))\n",
      "('the centroids is ', matrix([[-2.69075733,  3.18916133],\n",
      "        [ 2.95977168,  3.26903847]]))\n",
      "('the centroids is ', matrix([[-2.94737575,  3.3263781 ],\n",
      "        [ 2.93386365,  3.12782785]]))\n",
      "sseSplit, and sseNotSplit : 77.592249 \t 29.157249 \n",
      "('the centroids is ', matrix([[-1.61613135, -2.43526865],\n",
      "        [-1.05422751, -3.7400051 ]]))\n",
      "('the centroids is ', matrix([[-1.17883189, -2.13213111],\n",
      "        [ 0.12876036, -3.30683018]]))\n",
      "('the centroids is ', matrix([[-1.1836084, -2.2507069],\n",
      "        [ 0.2642961, -3.3057243]]))\n",
      "('the centroids is ', matrix([[-1.12616164, -2.30193564],\n",
      "        [ 0.35496167, -3.36033556]]))\n",
      "sseSplit, and sseNotSplit : 12.753263 \t 423.876240 \n",
      "('The bestCentToSplit is: ', 0)\n",
      "('The len of bestClustAss is: ', 40)\n"
     ]
    }
   ],
   "source": [
    "centList , myassments = kmeans.biKmeans(datamat, 3)"
   ]
  },
  {
   "cell_type": "code",
   "execution_count": 15,
   "metadata": {
    "collapsed": false
   },
   "outputs": [
    {
     "data": {
      "text/plain": [
       "matrix([[-2.94737575,  3.3263781 ],\n",
       "        [-0.45965615, -2.7782156 ],\n",
       "        [ 2.93386365,  3.12782785]])"
      ]
     },
     "execution_count": 15,
     "metadata": {},
     "output_type": "execute_result"
    }
   ],
   "source": [
    "centList\n"
   ]
  },
  {
   "cell_type": "code",
   "execution_count": 16,
   "metadata": {
    "collapsed": true
   },
   "outputs": [],
   "source": [
    "from pylab import *"
   ]
  },
  {
   "cell_type": "code",
   "execution_count": 20,
   "metadata": {
    "collapsed": false
   },
   "outputs": [],
   "source": [
    "x = centList[:,0].tolist()[0]\n",
    "y = centList[:,1].tolist()[0]\n"
   ]
  },
  {
   "cell_type": "code",
   "execution_count": 21,
   "metadata": {
    "collapsed": false
   },
   "outputs": [
    {
     "data": {
      "text/plain": [
       "[[-2.94737575], [-0.45965614999999993], [2.93386365]]"
      ]
     },
     "execution_count": 21,
     "metadata": {},
     "output_type": "execute_result"
    }
   ],
   "source": [
    "x"
   ]
  },
  {
   "cell_type": "code",
   "execution_count": null,
   "metadata": {
    "collapsed": true
   },
   "outputs": [],
   "source": []
  }
 ],
 "metadata": {
  "kernelspec": {
   "display_name": "Python 2",
   "language": "python",
   "name": "python2"
  },
  "language_info": {
   "codemirror_mode": {
    "name": "ipython",
    "version": 2
   },
   "file_extension": ".py",
   "mimetype": "text/x-python",
   "name": "python",
   "nbconvert_exporter": "python",
   "pygments_lexer": "ipython2",
   "version": "2.7.6"
  }
 },
 "nbformat": 4,
 "nbformat_minor": 0
}
